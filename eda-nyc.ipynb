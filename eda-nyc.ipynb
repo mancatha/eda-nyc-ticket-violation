{
 "cells": [
  {
   "cell_type": "markdown",
   "id": "dd39a8e2",
   "metadata": {},
   "source": [
    "Using the same nyc-ticket-violation dataset, let’s assume that tickets can be dismissed if the license plate, state, and/or street name are all there but without requiring the make of car. Remove rows that are missing one or more of these. How many rows remain? Assuming $100/ticket, how much money would the city lose as a result of this\n"
   ]
  },
  {
   "cell_type": "code",
   "execution_count": 1,
   "id": "cefae1c5",
   "metadata": {},
   "outputs": [],
   "source": [
    "#let assume that tickets can be dismissed if the license plate,state and /or streetname are all there but without requiring the\n",
    "#make of car \n",
    "#remove the missing rows\n",
    "#how many rows remain\n",
    "#assuming $100/ticket, how much money would the city lose as a result "
   ]
  },
  {
   "cell_type": "code",
   "execution_count": 1,
   "id": "2962916d",
   "metadata": {},
   "outputs": [
    {
     "name": "stdout",
     "output_type": "stream",
     "text": [
      "<class 'pandas.core.frame.DataFrame'>\n",
      "RangeIndex: 50000 entries, 0 to 49999\n",
      "Data columns (total 3 columns):\n",
      " #   Column              Non-Null Count  Dtype \n",
      "---  ------              --------------  ----- \n",
      " 0   Plate ID            50000 non-null  object\n",
      " 1   Registration State  50000 non-null  object\n",
      " 2   Street Name         49990 non-null  object\n",
      "dtypes: object(3)\n",
      "memory usage: 1.1+ MB\n"
     ]
    }
   ],
   "source": [
    "import pandas as pd\n",
    "import numpy as np \n",
    "\n",
    "nyc_violations_df = pd.read_csv('nyc-parking-violations-2020.csv',\n",
    "                     usecols=['Plate ID', 'Registration State', \n",
    "                        'Street Name'])\n",
    "\n",
    "nyc_violations_df.info()"
   ]
  },
  {
   "cell_type": "code",
   "execution_count": 60,
   "id": "ea1c2fe6",
   "metadata": {},
   "outputs": [
    {
     "data": {
      "text/html": [
       "<div>\n",
       "<style scoped>\n",
       "    .dataframe tbody tr th:only-of-type {\n",
       "        vertical-align: middle;\n",
       "    }\n",
       "\n",
       "    .dataframe tbody tr th {\n",
       "        vertical-align: top;\n",
       "    }\n",
       "\n",
       "    .dataframe thead th {\n",
       "        text-align: right;\n",
       "    }\n",
       "</style>\n",
       "<table border=\"1\" class=\"dataframe\">\n",
       "  <thead>\n",
       "    <tr style=\"text-align: right;\">\n",
       "      <th></th>\n",
       "      <th>Plate ID</th>\n",
       "      <th>Registration State</th>\n",
       "      <th>Street Name</th>\n",
       "    </tr>\n",
       "  </thead>\n",
       "  <tbody>\n",
       "    <tr>\n",
       "      <th>0</th>\n",
       "      <td>KGK6659</td>\n",
       "      <td>NY</td>\n",
       "      <td>WB ATLANTIC AVE @ SH</td>\n",
       "    </tr>\n",
       "    <tr>\n",
       "      <th>1</th>\n",
       "      <td>L5232HY</td>\n",
       "      <td>TN</td>\n",
       "      <td>Rockaway Beach Blvd</td>\n",
       "    </tr>\n",
       "    <tr>\n",
       "      <th>2</th>\n",
       "      <td>BPMN76</td>\n",
       "      <td>FL</td>\n",
       "      <td>W 113th St</td>\n",
       "    </tr>\n",
       "    <tr>\n",
       "      <th>3</th>\n",
       "      <td>57387MJ</td>\n",
       "      <td>NY</td>\n",
       "      <td>W 33rd St</td>\n",
       "    </tr>\n",
       "    <tr>\n",
       "      <th>4</th>\n",
       "      <td>M81KFJ</td>\n",
       "      <td>NJ</td>\n",
       "      <td>WB FOSTER AVE @ E 18</td>\n",
       "    </tr>\n",
       "    <tr>\n",
       "      <th>...</th>\n",
       "      <td>...</td>\n",
       "      <td>...</td>\n",
       "      <td>...</td>\n",
       "    </tr>\n",
       "    <tr>\n",
       "      <th>195</th>\n",
       "      <td>DMS6358</td>\n",
       "      <td>PA</td>\n",
       "      <td>Westchester Ave</td>\n",
       "    </tr>\n",
       "    <tr>\n",
       "      <th>196</th>\n",
       "      <td>CFD8890</td>\n",
       "      <td>NY</td>\n",
       "      <td>EB 73RD AVE @ 198TH</td>\n",
       "    </tr>\n",
       "    <tr>\n",
       "      <th>197</th>\n",
       "      <td>KFZ5274</td>\n",
       "      <td>NY</td>\n",
       "      <td>WB NORTHERN BLVD @ 4</td>\n",
       "    </tr>\n",
       "    <tr>\n",
       "      <th>198</th>\n",
       "      <td>KFV5473</td>\n",
       "      <td>NY</td>\n",
       "      <td>99th Ave</td>\n",
       "    </tr>\n",
       "    <tr>\n",
       "      <th>199</th>\n",
       "      <td>K79KLT</td>\n",
       "      <td>NJ</td>\n",
       "      <td>W 26th St</td>\n",
       "    </tr>\n",
       "  </tbody>\n",
       "</table>\n",
       "<p>200 rows × 3 columns</p>\n",
       "</div>"
      ],
      "text/plain": [
       "    Plate ID Registration State           Street Name\n",
       "0    KGK6659                 NY  WB ATLANTIC AVE @ SH\n",
       "1    L5232HY                 TN   Rockaway Beach Blvd\n",
       "2     BPMN76                 FL            W 113th St\n",
       "3    57387MJ                 NY             W 33rd St\n",
       "4     M81KFJ                 NJ  WB FOSTER AVE @ E 18\n",
       "..       ...                ...                   ...\n",
       "195  DMS6358                 PA       Westchester Ave\n",
       "196  CFD8890                 NY   EB 73RD AVE @ 198TH\n",
       "197  KFZ5274                 NY  WB NORTHERN BLVD @ 4\n",
       "198  KFV5473                 NY              99th Ave\n",
       "199   K79KLT                 NJ             W 26th St\n",
       "\n",
       "[200 rows x 3 columns]"
      ]
     },
     "execution_count": 60,
     "metadata": {},
     "output_type": "execute_result"
    }
   ],
   "source": [
    "nyc_violations_df.head(200)\n",
    "                      "
   ]
  },
  {
   "cell_type": "code",
   "execution_count": 61,
   "id": "e9155dd6",
   "metadata": {},
   "outputs": [
    {
     "data": {
      "text/plain": [
       "Plate ID               0\n",
       "Registration State     0\n",
       "Street Name           10\n",
       "dtype: int64"
      ]
     },
     "execution_count": 61,
     "metadata": {},
     "output_type": "execute_result"
    }
   ],
   "source": [
    "nyc_violations_df.isnull().sum()"
   ]
  },
  {
   "cell_type": "code",
   "execution_count": 62,
   "id": "aaded4e7",
   "metadata": {},
   "outputs": [
    {
     "data": {
      "text/plain": [
       "BLANKPLATE    34\n",
       "82547PC        7\n",
       "96087MA        7\n",
       "31404MG        6\n",
       "31410MG        6\n",
       "              ..\n",
       "JLZ3128        1\n",
       "GFTX18         1\n",
       "V670133        1\n",
       "9TP398         1\n",
       "AW74165        1\n",
       "Name: Plate ID, Length: 47883, dtype: int64"
      ]
     },
     "execution_count": 62,
     "metadata": {},
     "output_type": "execute_result"
    }
   ],
   "source": [
    "nyc_violations_df['Plate ID'].value_counts()"
   ]
  },
  {
   "cell_type": "code",
   "execution_count": 63,
   "id": "9afef53a",
   "metadata": {},
   "outputs": [],
   "source": [
    "nyc_violations_df.replace('BlackPlate', np.nan,inplace = True)\n"
   ]
  },
  {
   "cell_type": "code",
   "execution_count": 64,
   "id": "dde8d732",
   "metadata": {},
   "outputs": [],
   "source": [
    "\n",
    "# Drop rows if the rows in 'subset' columns contain an NaN\n",
    "\n",
    "new_violations_df=nyc_violations_df.dropna(subset=['Plate ID','Registration State','Street Name'])"
   ]
  },
  {
   "cell_type": "code",
   "execution_count": 65,
   "id": "5caada9b",
   "metadata": {},
   "outputs": [],
   "source": [
    "# Number of rows that have been removed from new dataset\n",
    "del_rows=nyc_violations_df.shape[0]-new_violations_df.shape[0]"
   ]
  },
  {
   "cell_type": "code",
   "execution_count": 67,
   "id": "2b0b430a",
   "metadata": {},
   "outputs": [
    {
     "name": "stdout",
     "output_type": "stream",
     "text": [
      "Number of deleted rows is 10\n",
      "Number of remaining rows is 49,990\n",
      "Money lost by New York due to misssing data is $4,999,000.00\n"
     ]
    }
   ],
   "source": [
    "#How many remaining rows\n",
    "#How many remaining rows\n",
    "rem_rows = nyc_violations_df.shape[0]-del_rows\n",
    "\n",
    "print(f'Number of deleted rows is {(del_rows):,}')\n",
    "print(f'Number of remaining rows is {(rem_rows):,}')\n",
    "print(f'Money lost by New York due to misssing data is ${(rem_rows*100):,.2f}')"
   ]
  },
  {
   "cell_type": "code",
   "execution_count": null,
   "id": "9be5c9bc",
   "metadata": {},
   "outputs": [],
   "source": []
  }
 ],
 "metadata": {
  "kernelspec": {
   "display_name": "Python 3 (ipykernel)",
   "language": "python",
   "name": "python3"
  },
  "language_info": {
   "codemirror_mode": {
    "name": "ipython",
    "version": 3
   },
   "file_extension": ".py",
   "mimetype": "text/x-python",
   "name": "python",
   "nbconvert_exporter": "python",
   "pygments_lexer": "ipython3",
   "version": "3.10.9"
  }
 },
 "nbformat": 4,
 "nbformat_minor": 5
}
